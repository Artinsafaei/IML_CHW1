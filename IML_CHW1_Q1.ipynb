{
  "cells": [
    {
      "cell_type": "markdown",
      "metadata": {
        "id": "c7wdMyNNzf49"
      },
      "source": [
        "<h1 align=\"center\">An Introduction to Machine Learning - 25737</h1>\n",
        "<h4 align=\"center\">Dr. Sajjad Amini</h4>\n",
        "<h4 align=\"center\">Sharif University of Technology, Spring 2023</h4>\n",
        "\n",
        "# Problem Set 01\n",
        "\n",
        "Welcome to your first assignment. This exercise gives you a brief introduction to Python. \n",
        "\n",
        "\n"
      ]
    },
    {
      "cell_type": "markdown",
      "source": [
        "STUDENT NAME: Artin Safaei Estalkhzir\n",
        "\n",
        "STUDENT ID: 99109093"
      ],
      "metadata": {
        "id": "Q-qsTRYU5ay5"
      }
    },
    {
      "cell_type": "markdown",
      "metadata": {
        "id": "lyOsKSguzf5A"
      },
      "source": [
        "## About iPython Notebooks ##\n",
        "\n",
        "iPython Notebooks are interactive coding environments embedded in a webpage. You will be using iPython notebooks in this class. You only need to write code between the ### START CODE HERE ### and ### END CODE HERE ### comments. After writing your code, you can run the cell by either pressing \"SHIFT\"+\"ENTER\" or by clicking on \"Run Cell\" (denoted by a play symbol) in the upper bar of the notebook. \n",
        "\n",
        "**Exercise**: Set test to `\"Hello World\"` in the cell below to print \"Hello World\" and run the two cells below."
      ]
    },
    {
      "cell_type": "code",
      "execution_count": null,
      "metadata": {
        "id": "cVMoOWUlzf5A",
        "colab": {
          "base_uri": "https://localhost:8080/",
          "height": 35
        },
        "outputId": "d2eb19c3-bd0b-4342-fe9f-9b57b1a014b2"
      },
      "outputs": [
        {
          "output_type": "execute_result",
          "data": {
            "text/plain": [
              "'Hello world'"
            ],
            "application/vnd.google.colaboratory.intrinsic+json": {
              "type": "string"
            }
          },
          "metadata": {},
          "execution_count": 10
        }
      ],
      "source": [
        "### START CODE HERE ###\n",
        "test = \"Hello world\"\n",
        "test\n",
        "### END CODE HERE ###"
      ]
    },
    {
      "cell_type": "markdown",
      "metadata": {
        "id": "mJZfkY87zf5B"
      },
      "source": [
        "<font color='blue'>\n",
        "**What you need to remember**:\n",
        "- Run your cells using SHIFT+ENTER (or \"Run cell\")\n",
        "- Write code in the designated areas using Python 3 only\n",
        "- Do not modify the code outside of the designated areas"
      ]
    },
    {
      "cell_type": "markdown",
      "metadata": {
        "id": "ZdmzMwNpzf5B"
      },
      "source": [
        "# 1.\n",
        ">What are the lengths of the following lists and strings below? Fill in the variable `lengths` with your predictions. (Try to make a prediction for each list *without* just calling `len()` on it.)"
      ]
    },
    {
      "cell_type": "code",
      "execution_count": null,
      "metadata": {
        "id": "Yh3d2hZ4zf5C",
        "colab": {
          "base_uri": "https://localhost:8080/"
        },
        "outputId": "a2967dc2-29a2-43bc-d7f2-f9f37d347792"
      },
      "outputs": [
        {
          "output_type": "execute_result",
          "data": {
            "text/plain": [
              "[3, 2, 0, 2, 7, 0, 3, 1]"
            ]
          },
          "metadata": {},
          "execution_count": 11
        }
      ],
      "source": [
        "a = [1, 2, 3]\n",
        "b = [1, [2, 3]]\n",
        "c = []\n",
        "d = [1, 2, 3][1:]\n",
        "e = 'it\\'s ok'\n",
        "f = \"\"\n",
        "g = \"\"\"hey\"\"\"\n",
        "h = '\\n'\n",
        "\n",
        "# Put your predictions in the list below. Lengths should contain 8 numbers, the\n",
        "# first being the length of a, the second being the length of b and so on.\n",
        "### START CODE HERE ###\n",
        "lengths = [3,2,0,2,7,0,3,1]\n",
        "lengths\n",
        "### END CODE HERE ###\n"
      ]
    },
    {
      "cell_type": "markdown",
      "metadata": {
        "id": "dMxFzKopzf5C"
      },
      "source": [
        "# 2. \n",
        ">Swap the values to which a and b refer."
      ]
    },
    {
      "cell_type": "code",
      "execution_count": null,
      "metadata": {
        "id": "HXlpbPVYzf5C",
        "outputId": "919a2ad0-3978-43c0-8f56-31814dbaad0b",
        "colab": {
          "base_uri": "https://localhost:8080/"
        }
      },
      "outputs": [
        {
          "output_type": "stream",
          "name": "stdout",
          "text": [
            "a after swap: [3, 2, 1]\n",
            "b after swap: [1, 2, 3]\n"
          ]
        }
      ],
      "source": [
        "a = [1, 2, 3]\n",
        "b = [3, 2, 1]\n",
        "\n",
        "### START CODE HERE ###\n",
        "a,b = b,a\n",
        "print('a after swap:', a)\n",
        "print('b after swap:', b)\n",
        "### END CODE HERE ###"
      ]
    },
    {
      "cell_type": "markdown",
      "metadata": {
        "id": "igr3m4pXzf5C"
      },
      "source": [
        "# 3. \n",
        ">Which of the two variables below has the smallest absolute value? Use Python's built-in functions."
      ]
    },
    {
      "cell_type": "code",
      "execution_count": null,
      "metadata": {
        "id": "tAy0qBDezf5C",
        "colab": {
          "base_uri": "https://localhost:8080/"
        },
        "outputId": "1f23ec28-3a3c-4fbd-d6ef-328c4b2a481c"
      },
      "outputs": [
        {
          "output_type": "execute_result",
          "data": {
            "text/plain": [
              "-10"
            ]
          },
          "metadata": {},
          "execution_count": 13
        }
      ],
      "source": [
        "x = -10\n",
        "y = 5\n",
        "\n",
        "\n",
        "### START CODE HERE ###\n",
        "smallest_abs = min(x,y)\n",
        "smallest_abs\n",
        "### END CODE HERE ###"
      ]
    },
    {
      "cell_type": "markdown",
      "metadata": {
        "id": "-55kY-Cqzf5C"
      },
      "source": [
        "# 4. \n",
        "\n",
        "> A simple exercise! Run the cell below and try to explain the results for yourself:\n",
        "\n"
      ]
    },
    {
      "cell_type": "code",
      "execution_count": null,
      "metadata": {
        "id": "_dpAa1Q4zf5D",
        "outputId": "2266ba9a-0793-4d55-cb74-4c0a4d8182be",
        "colab": {
          "base_uri": "https://localhost:8080/"
        }
      },
      "outputs": [
        {
          "output_type": "stream",
          "name": "stdout",
          "text": [
            "1.0\n",
            "0.0\n",
            "1.0\n"
          ]
        }
      ],
      "source": [
        "print( 1.0 + 1.0 - 1.0 )\n",
        "print( 1.0 + 1.0e20 - 1.0e20 )\n",
        "print( 1.0e20 - 1.0e20 + 1 )"
      ]
    },
    {
      "cell_type": "markdown",
      "source": [
        "First one: it's obvious\n",
        "Second one: The number of bits in the floating point representation is not enough to store 1 in addition.\n",
        "Third one: At first the number of bits is okay for floating point representation and after the subtraction it's zero which is okay based on number of bits and then the number 1 will add."
      ],
      "metadata": {
        "id": "yRC17kp0cwpq"
      }
    },
    {
      "cell_type": "markdown",
      "metadata": {
        "id": "3G2-lTfDzf5D"
      },
      "source": [
        "# 5.\n",
        ">Many programming languages have [`sign`](https://en.wikipedia.org/wiki/Sign_function) available as a built-in function. Python doesn't, but we can define our own! \n",
        "In the cell below, define a function called `sign` which takes a numerical argument and returns -1 if it's negative, 1 if it's positive, and 0 if it's 0."
      ]
    },
    {
      "cell_type": "code",
      "execution_count": null,
      "metadata": {
        "id": "ASICcFwYzf5D",
        "outputId": "ded3f762-d60e-4165-f25e-34ca66b5eb3b",
        "colab": {
          "base_uri": "https://localhost:8080/"
        }
      },
      "outputs": [
        {
          "output_type": "stream",
          "name": "stdout",
          "text": [
            "1\n",
            "-1\n",
            "0\n"
          ]
        }
      ],
      "source": [
        "def sign(x):\n",
        "    # (\"pass\" is a keyword that does literally nothing. We used it as a placeholder\n",
        "    # because after we begin a code block, Python requires at least one line of code)\n",
        "    ### START CODE HERE ###\n",
        "    if x>0:\n",
        "      return 1\n",
        "    elif x<0:\n",
        "      return -1\n",
        "    else:\n",
        "      return 0    \n",
        "\n",
        "    ### END CODE HERE ###\n",
        "    \n",
        "\n",
        "# You can try different examples to check your function:\n",
        "print(sign(2))\n",
        "print(sign(-2))\n",
        "print(sign(0))"
      ]
    },
    {
      "cell_type": "markdown",
      "metadata": {
        "id": "6on-t1f0zf5D"
      },
      "source": [
        "# 6. \n",
        ">Complete the body of the following function according to its docstring.\n",
        "\n",
        "HINT: Python has a built-in function `round`."
      ]
    },
    {
      "cell_type": "code",
      "execution_count": null,
      "metadata": {
        "id": "VINxi-ngzf5D",
        "colab": {
          "base_uri": "https://localhost:8080/"
        },
        "outputId": "80229602-a0d8-4115-f684-cc02c1a63b1d"
      },
      "outputs": [
        {
          "output_type": "stream",
          "name": "stdout",
          "text": [
            "10.0\n"
          ]
        }
      ],
      "source": [
        "def round_to_two_places(num):\n",
        "  \n",
        "  \n",
        "    \"\"\"Return the given number rounded to two decimal places. \n",
        "    \n",
        "    >>> round_to_two_places(3.14159)\n",
        "    3.14\n",
        "    \"\"\"\n",
        "    ### START CODE HERE ###\n",
        "    \n",
        "    return round(num,2)\n",
        "    ### END CODE HERE ###\n",
        "    \n",
        "\n",
        "print(round_to_two_places(9.9999))"
      ]
    },
    {
      "cell_type": "markdown",
      "metadata": {
        "id": "5FtTkgU6zf5D"
      },
      "source": [
        "The help for `round` says that `ndigits` (the second argument) may be negative.\n",
        "What do you think will happen when it is? Try an example in the cell below."
      ]
    },
    {
      "cell_type": "code",
      "execution_count": null,
      "metadata": {
        "id": "G6_vfswBzf5D",
        "outputId": "05494c32-3d77-4e1b-84b1-1f3da1f22016",
        "colab": {
          "base_uri": "https://localhost:8080/"
        }
      },
      "outputs": [
        {
          "output_type": "execute_result",
          "data": {
            "text/plain": [
              "200.0"
            ]
          },
          "metadata": {},
          "execution_count": 17
        }
      ],
      "source": [
        "round(232.4243, -2)"
      ]
    },
    {
      "cell_type": "markdown",
      "source": [
        "A negative value for ndigits will round to a power of 10. For example -2 will round to 100. "
      ],
      "metadata": {
        "id": "sRuche2Wf4Fe"
      }
    },
    {
      "cell_type": "markdown",
      "metadata": {
        "id": "i3sKJk1jzf5D"
      },
      "source": [
        "# 7.\n",
        "> Write a function that evaluates the polynomial $${3x^2 − x + 2}$$"
      ]
    },
    {
      "cell_type": "code",
      "execution_count": null,
      "metadata": {
        "id": "cKy7RJVTzf5E"
      },
      "outputs": [],
      "source": [
        "def polynomial(x):\n",
        "    ### START CODE HERE ###\n",
        "    A = 3*x**2 - x + 2\n",
        "    return A\n",
        "    ### END CODE HERE ###\n",
        "\n"
      ]
    },
    {
      "cell_type": "markdown",
      "metadata": {
        "id": "HI8Nje1Jzf5E"
      },
      "source": [
        "# 8.\n",
        ">Complete the function below according to its docstring."
      ]
    },
    {
      "cell_type": "code",
      "execution_count": null,
      "metadata": {
        "id": "4pDj20lbzf5E",
        "colab": {
          "base_uri": "https://localhost:8080/",
          "height": 35
        },
        "outputId": "43c7351d-44aa-43a3-928d-971c6bacd0e0"
      },
      "outputs": [
        {
          "output_type": "execute_result",
          "data": {
            "text/plain": [
              "'None'"
            ],
            "application/vnd.google.colaboratory.intrinsic+json": {
              "type": "string"
            }
          },
          "metadata": {},
          "execution_count": 19
        }
      ],
      "source": [
        "def select_second(L):\n",
        "    \"\"\"Return the second element of the given list. If the list has no second\n",
        "    element, return None.\n",
        "    \"\"\"\n",
        "    ### START CODE HERE ###\n",
        "    if len(L)<2:\n",
        "      return 'None'\n",
        "     \n",
        "\n",
        "    return L[1]\n",
        " \n",
        " \n",
        "select_second([1])  \n",
        "    ### END CODE HERE ###\n"
      ]
    },
    {
      "cell_type": "markdown",
      "metadata": {
        "id": "uHty8trFzf5E"
      },
      "source": [
        "# 9.\n",
        ">We're using lists to record people who attended a class and what order they arrived in. For example, the following list represents a class with 7 students, in which 'Amirhossein' showed up first and 'Pedram' was the last to arrive:\n",
        "    \n",
        "> class_attendees = ['Amirhossein', 'Hadi', 'Fatemeh', 'Mahtab', 'Ali', 'Nasim', 'Pedram']\n",
        "\n",
        "> A student is considered 'fashionably late' if they arrived after at least half of the class's students. However, they must not be the very last student (that's taking it too far). In the above example, Ali and Nasim are the only students who were fashionably late.\n",
        "Complete the function below which takes a list of class attendees as well as a person, and tells us whether that person is fashionably late."
      ]
    },
    {
      "cell_type": "code",
      "execution_count": null,
      "metadata": {
        "id": "8xOjqaTvzf5E",
        "colab": {
          "base_uri": "https://localhost:8080/"
        },
        "outputId": "05edd179-a7c7-4566-9eed-3a1f05c04e86"
      },
      "outputs": [
        {
          "output_type": "execute_result",
          "data": {
            "text/plain": [
              "False"
            ]
          },
          "metadata": {},
          "execution_count": 20
        }
      ],
      "source": [
        "def fashionably_late(arrivals, name):\n",
        "\n",
        "\n",
        "    \"\"\"Given an ordered list of arrivals to the class and a name, return whether the student with that\n",
        "    name was fashionably late.\n",
        "    \"\"\"\n",
        "    ### START CODE HERE ###\n",
        "    if name in arrivals:\n",
        "\n",
        "     half = len(arrivals)/2\n",
        "     attendance_number = arrivals.index(name)\n",
        "     if attendance_number > half and attendance_number != len(arrivals)-1:\n",
        "       return True\n",
        "\n",
        "     else:\n",
        "       return False  \n",
        "    else:\n",
        "      return 'The name is not on the list'\n",
        "fashionably_late(['Amirhossein', 'Hadi', 'Fatemeh', 'Mahtab', 'Ali', 'Nasim', 'Pedram'],'Pedram')\n",
        "    ### END CODE HERE ###\n",
        " \n"
      ]
    },
    {
      "cell_type": "markdown",
      "metadata": {
        "id": "xYVP-8eWzf5E"
      },
      "source": [
        "# 10.\n",
        ">Complete the function below according to its docstring."
      ]
    },
    {
      "cell_type": "code",
      "execution_count": null,
      "metadata": {
        "id": "HQ-mpu1zzf5E",
        "colab": {
          "base_uri": "https://localhost:8080/"
        },
        "outputId": "b8496749-3627-455a-f395-d628be327507"
      },
      "outputs": [
        {
          "output_type": "execute_result",
          "data": {
            "text/plain": [
              "True"
            ]
          },
          "metadata": {},
          "execution_count": 21
        }
      ],
      "source": [
        "def has_lucky_number(nums):\n",
        "   \n",
        "\n",
        "    \"\"\"Return whether the given list of numbers is lucky. A lucky list contains\n",
        "    at least one number divisible by 7.\n",
        "    \"\"\"\n",
        "    ### START CODE HERE ###\n",
        "    c = 0\n",
        "    for i in nums:\n",
        "       \n",
        "       if i%7==0:\n",
        "          c = c+1\n",
        "       if c == 1:\n",
        "         break\n",
        "    if c ==1:\n",
        "       return True\n",
        "    else:\n",
        "       return False\n",
        "         \n",
        "          \n",
        "has_lucky_number([1,21,3])\n",
        "    ### END CODE HERE "
      ]
    },
    {
      "cell_type": "markdown",
      "metadata": {
        "id": "tp4MIqyozf5E"
      },
      "source": [
        "# 11.\n",
        "\n",
        ">Complete the body of the function below according to its docstring."
      ]
    },
    {
      "cell_type": "code",
      "execution_count": null,
      "metadata": {
        "id": "28PSD7eKzf5F",
        "colab": {
          "base_uri": "https://localhost:8080/"
        },
        "outputId": "9d4f2101-9db1-490f-c9f4-c7d7dbd8c914"
      },
      "outputs": [
        {
          "output_type": "execute_result",
          "data": {
            "text/plain": [
              "True"
            ]
          },
          "metadata": {},
          "execution_count": 22
        }
      ],
      "source": [
        "def menu_is_boring(meals):\n",
        "    \"\"\"Given a list of meals served over some period of time, return True if the\n",
        "    same meal has ever been served two days in a row, and False otherwise.\n",
        "    \"\"\"\n",
        "    ### START CODE HERE ###\n",
        "    for i in range(len(meals)):\n",
        "       if meals[i] == meals[i+1]:\n",
        "          return True\n",
        "       else:\n",
        "          return False   \n",
        "\n",
        "menu_is_boring(['sup','sup', 'rice'])          \n",
        "    ### END CODE HERE ###\n"
      ]
    },
    {
      "cell_type": "markdown",
      "metadata": {
        "id": "WxphNvtzzf5F"
      },
      "source": [
        "# 12.\n",
        "\n",
        "> There is a saying that \"Data scientists spend 80% of their time cleaning data, and 20% of their time complaining about cleaning data.\" Let's see if you can write a function to help clean US zip code data. Given a string, it should return whether or not that string represents a valid zip code. For our purposes, a valid zip code is any string consisting of exactly 5 digits.\n",
        "\n",
        "HINT: `str` has a method that will be useful here. Use `help(str)` to review a list of string methods."
      ]
    },
    {
      "cell_type": "code",
      "execution_count": null,
      "metadata": {
        "id": "BPjuuKfXzf5F",
        "colab": {
          "base_uri": "https://localhost:8080/"
        },
        "outputId": "41508cd6-4126-41ef-fac1-82e1d30aa94a"
      },
      "outputs": [
        {
          "output_type": "execute_result",
          "data": {
            "text/plain": [
              "True"
            ]
          },
          "metadata": {},
          "execution_count": 32
        }
      ],
      "source": [
        "def is_valid_zip(zip_code):\n",
        "    \"\"\"Returns whether the input string is a valid (5 digit) zip code\n",
        "    \"\"\"\n",
        "    ### START CODE HERE ###\n",
        "    if len(zip_code) == 5:\n",
        "       return True\n",
        "    else:\n",
        "       return False   \n",
        "is_valid_zip('absed')\n",
        "    ### END CODE HERE ###\n"
      ]
    },
    {
      "cell_type": "markdown",
      "metadata": {
        "id": "CAB_4WFczf5F"
      },
      "source": [
        "# 13.\n",
        ">Write a function my_max(x,y) that returns the maximum of x and y. \n",
        "\n",
        ">Do not use the max function, but use if instead in following two ways:\n",
        "\n",
        ">> (a) Use both if and else.\n",
        "\n",
        ">> (b) Use if but not else (nor elif)."
      ]
    },
    {
      "cell_type": "code",
      "execution_count": null,
      "metadata": {
        "id": "EdxovDduzf5F",
        "colab": {
          "base_uri": "https://localhost:8080/"
        },
        "outputId": "41ed5a08-674a-494d-f9b8-b454ddc89f74"
      },
      "outputs": [
        {
          "output_type": "execute_result",
          "data": {
            "text/plain": [
              "7"
            ]
          },
          "metadata": {},
          "execution_count": 41
        }
      ],
      "source": [
        "def my_max_a(x,y):\n",
        "    ### START CODE HERE ###\n",
        "    if x <= y:\n",
        "       return y\n",
        "    else:\n",
        "        return x\n",
        "\n",
        "\n",
        "\n",
        "\n",
        "my_max_a(2,7)\n",
        "    ### END CODE HERE ###\n"
      ]
    },
    {
      "cell_type": "code",
      "execution_count": null,
      "metadata": {
        "id": "QbC8rsevzf5F",
        "colab": {
          "base_uri": "https://localhost:8080/"
        },
        "outputId": "6abf8838-d9a7-4158-a6aa-07c66fd96fa2"
      },
      "outputs": [
        {
          "output_type": "execute_result",
          "data": {
            "text/plain": [
              "7"
            ]
          },
          "metadata": {},
          "execution_count": 42
        }
      ],
      "source": [
        "def my_max_b(x,y):\n",
        "    ### START CODE HERE ###\n",
        "    if x<= y:\n",
        "      return y\n",
        "\n",
        "    return x \n",
        "\n",
        "\n",
        "\n",
        "my_max_b(7,2)\n",
        "    ### END CODE HERE ###\n"
      ]
    },
    {
      "cell_type": "markdown",
      "metadata": {
        "id": "SPGRkQKczf5F"
      },
      "source": [
        "# 14.  \n",
        "\n",
        "> Let i,j = 1,...,n\n",
        "\n",
        ">>(a) Generate a list with elements [i,j].\n",
        "\n",
        ">>(b) Generate a list with elements [i,j] with i < j\n",
        "\n",
        ">>(c) Generate a list with elements i + j with both i and j prime and i > j\n",
        "\n",
        "Use List comprehensions"
      ]
    },
    {
      "cell_type": "code",
      "execution_count": null,
      "metadata": {
        "id": "6kEF2l-azf5F",
        "outputId": "a4a06d8c-cfc9-4907-890f-96eddf85b364",
        "colab": {
          "base_uri": "https://localhost:8080/"
        }
      },
      "outputs": [
        {
          "output_type": "stream",
          "name": "stdout",
          "text": [
            "a =  [[1, 1], [1, 2], [1, 3], [1, 4], [1, 5], [1, 6], [2, 1], [2, 2], [2, 3], [2, 4], [2, 5], [2, 6], [3, 1], [3, 2], [3, 3], [3, 4], [3, 5], [3, 6], [4, 1], [4, 2], [4, 3], [4, 4], [4, 5], [4, 6], [5, 1], [5, 2], [5, 3], [5, 4], [5, 5], [5, 6], [6, 1], [6, 2], [6, 3], [6, 4], [6, 5], [6, 6]]\n",
            "b =  [[1, 2], [1, 3], [1, 4], [1, 5], [1, 6], [2, 3], [2, 4], [2, 5], [2, 6], [3, 4], [3, 5], [3, 6], [4, 5], [4, 6], [5, 6]]\n",
            "c =  [[3, 2], [5, 2], [5, 3]]\n"
          ]
        }
      ],
      "source": [
        "# a)\n",
        "\n",
        "\n",
        "\n",
        "### START CODE HERE ###\n",
        "list_a = []\n",
        " \n",
        "\n",
        "for i in range(1,7):\n",
        "   for j in range(1,7):\n",
        "      list_a.append([i,j])\n",
        "\n",
        "\n",
        "print('a = ', list_a)\n",
        "\n",
        " \n",
        "\n",
        "\n",
        "\n",
        "    \n",
        "### END CODE HERE ###\n",
        "\n",
        "\n",
        "# b)\n",
        "### START CODE HERE ###\n",
        "list_b = []\n",
        " \n",
        "\n",
        "for k in range(1,7):\n",
        "   for l in range(1,7):\n",
        "      if k<l:\n",
        "         list_b.append([k,l])\n",
        "\n",
        "\n",
        "print('b = ', list_b)\n",
        "### END CODE HERE ###\n",
        "\n",
        "\n",
        "# c)\n",
        "### START CODE HERE ###\n",
        "list_c = []\n",
        "\n",
        "i_prime = []\n",
        " \n",
        "for number in range (1, 7):  \n",
        "    if number > 1:  \n",
        "        for i in range (2, number):  \n",
        "            if (number % i) == 0:  \n",
        "                break  \n",
        "        else:  \n",
        "            i_prime.append(number)  \n",
        "\n",
        "j_prime = i_prime.copy()\n",
        "\n",
        "for i in i_prime:\n",
        "   for j in j_prime:\n",
        "      if i>j:\n",
        "        list_c.append([i,j])\n",
        "\n",
        "\n",
        "print('c = ',list_c)\n",
        "### END CODE HERE ###"
      ]
    },
    {
      "cell_type": "markdown",
      "metadata": {
        "id": "1Nt-b71ozf5F"
      },
      "source": [
        "# 15. \n",
        "\n",
        ">Complete the body of the function below according to its docstring."
      ]
    },
    {
      "cell_type": "code",
      "execution_count": null,
      "metadata": {
        "id": "h7dJzbXgzf5F"
      },
      "outputs": [],
      "source": [
        "def my_func():\n",
        "    \"\"\"Write a function which will return a list contains all such numbers which are divisible by 7 but are not a multiple\n",
        "    of 5, between 2000 and 3200 (both included).\n",
        "    \"\"\"\n",
        "    ### START CODE HERE ###\n",
        "    mylist = []\n",
        "    \n",
        "    for i in range(2000,3200):\n",
        "       if i%7==0 and i%5!=0:\n",
        "          mylist.append(i)\n",
        "    return mylist      \n",
        "\n",
        "\n",
        "#mylist = my_func()\n",
        "#mylist      \n",
        "    ### END CODE HERE ###\n"
      ]
    },
    {
      "cell_type": "markdown",
      "metadata": {
        "id": "4hCkNduIzf5F"
      },
      "source": [
        "# 16.\n",
        "\n",
        ">Write a program that accepts a sentence and calculate the number of letters and digits.\n",
        "Suppose the following input is supplied to the program:\n",
        "\n",
        "        hello world! 123\n",
        ">Then, the output should be:\n",
        "\n",
        ">>LETTERS 10\n",
        "\n",
        ">>DIGITS 3"
      ]
    },
    {
      "cell_type": "code",
      "execution_count": null,
      "metadata": {
        "id": "zCF3Jcxrzf5G",
        "outputId": "891db832-14ce-4972-e6b0-a120099b015d",
        "colab": {
          "base_uri": "https://localhost:8080/"
        }
      },
      "outputs": [
        {
          "output_type": "stream",
          "name": "stdout",
          "text": [
            "Enter a sentence: hello world! 123\n",
            "LETTERS: 10\n",
            "DIGITS: 3\n"
          ]
        }
      ],
      "source": [
        "### START CODE HERE ###\n",
        "\n",
        "string = input(\"Enter a sentence: \")\n",
        "\n",
        "res = [int(i) for i in string if i.isdigit()]\n",
        "\n",
        "\n",
        "\n",
        "letters = \"\"\n",
        "\n",
        "for i in string:\n",
        "     if i.isalpha():\n",
        "        letters = \"\".join([letters, i])\n",
        "\n",
        "\n",
        "print('LETTERS:', len(letters))\n",
        "print('DIGITS:', len(res))\n",
        "### END CODE HERE ###"
      ]
    },
    {
      "cell_type": "markdown",
      "metadata": {
        "id": "SrFe49A3zf5G"
      },
      "source": [
        "# 17.\n",
        "Write a function to sort a list of tuples (name, age, height) by ascending order\n",
        "where name is string, age and height are numbers. The sort\n",
        "criteria is:\n",
        "\n",
        "* 1: Sort based on name;\n",
        "* 2: Then sort based on age;\n",
        "* 3: Then sort by score.\n",
        "\n",
        "The priority is that name > age > score.\n",
        "If the following list is given as input to the function:\n",
        ">[('Taha',19,80), ('Farhad',20,90), ('Farrokh',17,91), ('Farrokh',17,93), ('Fatemeh',21,85)]\n",
        "\n",
        "Then, the output of the program should be:\n",
        ">[('Farhad', '20', '90'), ('Farrokh', '17', '91'), ('Farrokh', '17', '93'), ('Fatemeh', '21', '85'), ('Taha', '19', '80')]"
      ]
    },
    {
      "cell_type": "code",
      "execution_count": null,
      "metadata": {
        "id": "ovUPqq9Tzf5G",
        "colab": {
          "base_uri": "https://localhost:8080/"
        },
        "outputId": "cd229671-b740-45f1-b453-4cb93e1c2232"
      },
      "outputs": [
        {
          "output_type": "stream",
          "name": "stdout",
          "text": [
            "[('Farhad', 20, 90), ('Farrokh', 17, 91), ('Farrokh', 17, 93), ('Fatemeh', 21, 85), ('Taha', 19, 80)]\n"
          ]
        }
      ],
      "source": [
        "def sortTuple(inputList):\n",
        "    ### START CODE HERE ###\n",
        "    output = sorted(inputList, key=lambda element: (element[0], element[1], element[2]))\n",
        "    return output\n",
        "    ### END CODE HERE ###\n",
        "\n",
        "output = sortTuple([('Taha',19,80), ('Farhad',20,90), ('Farrokh',17,91), ('Farrokh',17,93), ('Fatemeh',21,85)])\n",
        "print(output)"
      ]
    }
  ],
  "metadata": {
    "kernelspec": {
      "display_name": "Python 3",
      "language": "python",
      "name": "python3"
    },
    "language_info": {
      "codemirror_mode": {
        "name": "ipython",
        "version": 3
      },
      "file_extension": ".py",
      "mimetype": "text/x-python",
      "name": "python",
      "nbconvert_exporter": "python",
      "pygments_lexer": "ipython3",
      "version": "3.8.5"
    },
    "colab": {
      "provenance": []
    }
  },
  "nbformat": 4,
  "nbformat_minor": 0
}